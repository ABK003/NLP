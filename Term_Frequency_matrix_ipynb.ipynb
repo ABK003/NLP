{
  "nbformat": 4,
  "nbformat_minor": 0,
  "metadata": {
    "colab": {
      "provenance": []
    },
    "kernelspec": {
      "name": "python3",
      "display_name": "Python 3"
    },
    "language_info": {
      "name": "python"
    }
  },
  "cells": [
    {
      "cell_type": "code",
      "execution_count": 1,
      "metadata": {
        "id": "m3fHZY9Wcf8Z"
      },
      "outputs": [],
      "source": [
        "from sklearn.feature_extraction.text import CountVectorizer"
      ]
    },
    {
      "cell_type": "code",
      "source": [
        "# Sample documents\n",
        "documents = [\n",
        "    \"They were very very beautiful days\",\n",
        "    \"Sunny days are beautiful days\",\n",
        "    \"Sunil Gavaskar wrote a book titled Sunny Days\"\n",
        "]\n",
        "\n",
        "# Create a CountVectorizer object with binary=True\n",
        "vectorizer = CountVectorizer(binary=True)"
      ],
      "metadata": {
        "id": "ywlghXZ7cxcD"
      },
      "execution_count": 2,
      "outputs": []
    },
    {
      "cell_type": "code",
      "source": [
        "# Fit and transform the documents\n",
        "X = vectorizer.fit_transform(documents)\n",
        "\n",
        "# Get the vocabulary\n",
        "vocabulary = vectorizer.get_feature_names_out()\n",
        "\n",
        "# Convert the sparse matrix to a dense matrix\n",
        "incidence_matrix = X.toarray()"
      ],
      "metadata": {
        "id": "tneJTq8Vc0Bz"
      },
      "execution_count": 3,
      "outputs": []
    },
    {
      "cell_type": "code",
      "source": [
        "print(\"Binary Incidence Matrix:\")\n",
        "print(incidence_matrix)"
      ],
      "metadata": {
        "colab": {
          "base_uri": "https://localhost:8080/"
        },
        "id": "1CVVdfR3dXWx",
        "outputId": "627eb986-5eb6-4c80-e127-0689d0b9a567"
      },
      "execution_count": 4,
      "outputs": [
        {
          "output_type": "stream",
          "name": "stdout",
          "text": [
            "Binary Incidence Matrix:\n",
            "[[0 1 0 1 0 0 0 1 0 1 1 0]\n",
            " [1 1 0 1 0 0 1 0 0 0 0 0]\n",
            " [0 0 1 1 1 1 1 0 1 0 0 1]]\n"
          ]
        }
      ]
    },
    {
      "cell_type": "code",
      "source": [
        "print(\"\\nVocabulary:\")\n",
        "print(vocabulary)"
      ],
      "metadata": {
        "colab": {
          "base_uri": "https://localhost:8080/"
        },
        "id": "icvLjLNpdaxI",
        "outputId": "cf139e80-a095-407f-aaa2-9b2032b49977"
      },
      "execution_count": 5,
      "outputs": [
        {
          "output_type": "stream",
          "name": "stdout",
          "text": [
            "\n",
            "Vocabulary:\n",
            "['are' 'beautiful' 'book' 'days' 'gavaskar' 'sunil' 'sunny' 'they'\n",
            " 'titled' 'very' 'were' 'wrote']\n"
          ]
        }
      ]
    }
  ]
}